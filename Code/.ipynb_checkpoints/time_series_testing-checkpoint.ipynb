{
 "cells": [
  {
   "cell_type": "code",
   "execution_count": 24,
   "metadata": {},
   "outputs": [],
   "source": [
    "from sktime.classification.all import *\n",
    "import pandas as pd\n",
    "import numpy as np\n",
    "import matplotlib.pyplot as plt\n",
    "from sklearn.metrics import classification_report, accuracy_score\n",
    "from sklearn.model_selection import train_test_split\n",
    "import get_data"
   ]
  },
  {
   "cell_type": "code",
   "execution_count": 59,
   "metadata": {},
   "outputs": [],
   "source": [
    "from collections import defaultdict\n",
    "datas = defaultdict(list)\n",
    "for i in get_data.X_train[:, :, :]:\n",
    "    for c in range(12):\n",
    "        datas['lead_{}'.format(c)].append(pd.Series(i[:, c:c+1].flatten()))\n",
    "\n",
    "X_train = pd.DataFrame(data=datas)\n",
    "\n",
    "datas = defaultdict(list)\n",
    "for i in get_data.X_test[:, :, :]:\n",
    "    for c in range(12):\n",
    "        datas['lead_{}'.format(c)].append(pd.Series(i[:, c:c+1].flatten()))\n",
    "\n",
    "X_test = pd.DataFrame(data=datas)"
   ]
  },
  {
   "cell_type": "code",
   "execution_count": 70,
   "metadata": {},
   "outputs": [
    {
     "data": {
      "text/plain": [
       "0.7015945330296127"
      ]
     },
     "execution_count": 70,
     "metadata": {},
     "output_type": "execute_result"
    }
   ],
   "source": [
    "classifier = TimeSeriesForest()\n",
    "classifier.fit(X_train[['lead_0']], get_data.y_train)\n",
    "y_pred = classifier.predict(X_test[['lead_0']])\n",
    "accuracy_score(get_data.y_test, y_pred)"
   ]
  },
  {
   "cell_type": "code",
   "execution_count": 72,
   "metadata": {},
   "outputs": [
    {
     "data": {
      "text/plain": [
       "False    255\n",
       "True     184\n",
       "Name: normal, dtype: int64"
      ]
     },
     "execution_count": 72,
     "metadata": {},
     "output_type": "execute_result"
    }
   ],
   "source": [
    "get_data.y_test.value_counts()"
   ]
  },
  {
   "cell_type": "code",
   "execution_count": 76,
   "metadata": {},
   "outputs": [
    {
     "data": {
      "text/html": [
       "<div>\n",
       "<style scoped>\n",
       "    .dataframe tbody tr th:only-of-type {\n",
       "        vertical-align: middle;\n",
       "    }\n",
       "\n",
       "    .dataframe tbody tr th {\n",
       "        vertical-align: top;\n",
       "    }\n",
       "\n",
       "    .dataframe thead th {\n",
       "        text-align: right;\n",
       "    }\n",
       "</style>\n",
       "<table border=\"1\" class=\"dataframe\">\n",
       "  <thead>\n",
       "    <tr style=\"text-align: right;\">\n",
       "      <th></th>\n",
       "      <th>False</th>\n",
       "      <th>True</th>\n",
       "      <th>accuracy</th>\n",
       "      <th>macro avg</th>\n",
       "      <th>weighted avg</th>\n",
       "    </tr>\n",
       "  </thead>\n",
       "  <tbody>\n",
       "    <tr>\n",
       "      <th>precision</th>\n",
       "      <td>0.712329</td>\n",
       "      <td>0.680272</td>\n",
       "      <td>0.701595</td>\n",
       "      <td>0.696300</td>\n",
       "      <td>0.698893</td>\n",
       "    </tr>\n",
       "    <tr>\n",
       "      <th>recall</th>\n",
       "      <td>0.815686</td>\n",
       "      <td>0.543478</td>\n",
       "      <td>0.701595</td>\n",
       "      <td>0.679582</td>\n",
       "      <td>0.701595</td>\n",
       "    </tr>\n",
       "    <tr>\n",
       "      <th>f1-score</th>\n",
       "      <td>0.760512</td>\n",
       "      <td>0.604230</td>\n",
       "      <td>0.701595</td>\n",
       "      <td>0.682371</td>\n",
       "      <td>0.695009</td>\n",
       "    </tr>\n",
       "    <tr>\n",
       "      <th>support</th>\n",
       "      <td>255.000000</td>\n",
       "      <td>184.000000</td>\n",
       "      <td>0.701595</td>\n",
       "      <td>439.000000</td>\n",
       "      <td>439.000000</td>\n",
       "    </tr>\n",
       "  </tbody>\n",
       "</table>\n",
       "</div>"
      ],
      "text/plain": [
       "                False        True  accuracy   macro avg  weighted avg\n",
       "precision    0.712329    0.680272  0.701595    0.696300      0.698893\n",
       "recall       0.815686    0.543478  0.701595    0.679582      0.701595\n",
       "f1-score     0.760512    0.604230  0.701595    0.682371      0.695009\n",
       "support    255.000000  184.000000  0.701595  439.000000    439.000000"
      ]
     },
     "execution_count": 76,
     "metadata": {},
     "output_type": "execute_result"
    }
   ],
   "source": [
    "report_dict=classification_report(get_data.y_test, y_pred, output_dict=True)\n",
    "report_df = pd.DataFrame(data = report_dict)\n",
    "report_df"
   ]
  },
  {
   "cell_type": "code",
   "execution_count": null,
   "metadata": {},
   "outputs": [],
   "source": []
  }
 ],
 "metadata": {
  "hide_input": false,
  "kernelspec": {
   "display_name": "Python 3",
   "language": "python",
   "name": "python3"
  },
  "language_info": {
   "codemirror_mode": {
    "name": "ipython",
    "version": 3
   },
   "file_extension": ".py",
   "mimetype": "text/x-python",
   "name": "python",
   "nbconvert_exporter": "python",
   "pygments_lexer": "ipython3",
   "version": "3.8.5"
  }
 },
 "nbformat": 4,
 "nbformat_minor": 4
}

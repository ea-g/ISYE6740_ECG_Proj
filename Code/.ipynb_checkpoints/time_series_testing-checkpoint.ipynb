{
 "cells": [
  {
   "cell_type": "code",
   "execution_count": 47,
   "metadata": {},
   "outputs": [],
   "source": [
    "from sktime.classification.all import *\n",
    "import pandas as pd\n",
    "import numpy as np\n",
    "import matplotlib.pyplot as plt\n",
    "from sklearn.metrics import classification_report, accuracy_score\n",
    "from sklearn.model_selection import train_test_split\n",
    "import get_data\n",
    "from sktime.transformations.panel.rocket import MiniRocket\n",
    "from sklearn.linear_model import RidgeClassifierCV\n",
    "from sklearn.decomposition import PCA\n",
    "from sklearn.ensemble import RandomForestClassifier\n",
    "from sklearn.svm import SVC"
   ]
  },
  {
   "cell_type": "code",
   "execution_count": 7,
   "metadata": {},
   "outputs": [],
   "source": [
    "from collections import defaultdict\n",
    "datas = defaultdict(list)\n",
    "for i in get_data.X_train[:, :, :]:\n",
    "    for c in range(12):\n",
    "        datas['lead_{}'.format(c)].append(pd.Series(i[:, c:c+1].flatten()))\n",
    "\n",
    "X_train = pd.DataFrame(data=datas)\n",
    "\n",
    "datas = defaultdict(list)\n",
    "for i in get_data.X_test[:, :, :]:\n",
    "    for c in range(12):\n",
    "        datas['lead_{}'.format(c)].append(pd.Series(i[:, c:c+1].flatten()))\n",
    "\n",
    "X_test = pd.DataFrame(data=datas)"
   ]
  },
  {
   "cell_type": "code",
   "execution_count": 8,
   "metadata": {},
   "outputs": [
    {
     "data": {
      "text/plain": [
       "0.7038724373576309"
      ]
     },
     "execution_count": 8,
     "metadata": {},
     "output_type": "execute_result"
    }
   ],
   "source": [
    "classifier = TimeSeriesForest()\n",
    "classifier.fit(X_train[['lead_0']], get_data.y_train)\n",
    "y_pred = classifier.predict(X_test[['lead_0']])\n",
    "accuracy_score(get_data.y_test, y_pred)"
   ]
  },
  {
   "cell_type": "code",
   "execution_count": 9,
   "metadata": {},
   "outputs": [
    {
     "data": {
      "text/plain": [
       "False    255\n",
       "True     184\n",
       "Name: normal, dtype: int64"
      ]
     },
     "execution_count": 9,
     "metadata": {},
     "output_type": "execute_result"
    }
   ],
   "source": [
    "get_data.y_test.value_counts()"
   ]
  },
  {
   "cell_type": "code",
   "execution_count": 10,
   "metadata": {},
   "outputs": [
    {
     "data": {
      "text/html": [
       "<div>\n",
       "<style scoped>\n",
       "    .dataframe tbody tr th:only-of-type {\n",
       "        vertical-align: middle;\n",
       "    }\n",
       "\n",
       "    .dataframe tbody tr th {\n",
       "        vertical-align: top;\n",
       "    }\n",
       "\n",
       "    .dataframe thead th {\n",
       "        text-align: right;\n",
       "    }\n",
       "</style>\n",
       "<table border=\"1\" class=\"dataframe\">\n",
       "  <thead>\n",
       "    <tr style=\"text-align: right;\">\n",
       "      <th></th>\n",
       "      <th>False</th>\n",
       "      <th>True</th>\n",
       "      <th>accuracy</th>\n",
       "      <th>macro avg</th>\n",
       "      <th>weighted avg</th>\n",
       "    </tr>\n",
       "  </thead>\n",
       "  <tbody>\n",
       "    <tr>\n",
       "      <th>precision</th>\n",
       "      <td>0.717770</td>\n",
       "      <td>0.677632</td>\n",
       "      <td>0.703872</td>\n",
       "      <td>0.697701</td>\n",
       "      <td>0.700947</td>\n",
       "    </tr>\n",
       "    <tr>\n",
       "      <th>recall</th>\n",
       "      <td>0.807843</td>\n",
       "      <td>0.559783</td>\n",
       "      <td>0.703872</td>\n",
       "      <td>0.683813</td>\n",
       "      <td>0.703872</td>\n",
       "    </tr>\n",
       "    <tr>\n",
       "      <th>f1-score</th>\n",
       "      <td>0.760148</td>\n",
       "      <td>0.613095</td>\n",
       "      <td>0.703872</td>\n",
       "      <td>0.686621</td>\n",
       "      <td>0.698513</td>\n",
       "    </tr>\n",
       "    <tr>\n",
       "      <th>support</th>\n",
       "      <td>255.000000</td>\n",
       "      <td>184.000000</td>\n",
       "      <td>0.703872</td>\n",
       "      <td>439.000000</td>\n",
       "      <td>439.000000</td>\n",
       "    </tr>\n",
       "  </tbody>\n",
       "</table>\n",
       "</div>"
      ],
      "text/plain": [
       "                False        True  accuracy   macro avg  weighted avg\n",
       "precision    0.717770    0.677632  0.703872    0.697701      0.700947\n",
       "recall       0.807843    0.559783  0.703872    0.683813      0.703872\n",
       "f1-score     0.760148    0.613095  0.703872    0.686621      0.698513\n",
       "support    255.000000  184.000000  0.703872  439.000000    439.000000"
      ]
     },
     "execution_count": 10,
     "metadata": {},
     "output_type": "execute_result"
    }
   ],
   "source": [
    "report_dict=classification_report(get_data.y_test, y_pred, output_dict=True)\n",
    "report_df = pd.DataFrame(data = report_dict)\n",
    "report_df"
   ]
  },
  {
   "cell_type": "code",
   "execution_count": 12,
   "metadata": {},
   "outputs": [
    {
     "data": {
      "text/plain": [
       "(1754, 9996)"
      ]
     },
     "execution_count": 12,
     "metadata": {},
     "output_type": "execute_result"
    }
   ],
   "source": [
    "minirocket = MiniRocket() \n",
    "minirocket.fit(X_train[['lead_0']])\n",
    "X_train_transform = minirocket.transform(X_train[['lead_0']])\n",
    "X_train_transform.shape"
   ]
  },
  {
   "cell_type": "code",
   "execution_count": 56,
   "metadata": {},
   "outputs": [
    {
     "data": {
      "text/plain": [
       "RidgeClassifierCV(alphas=array([1.00000000e-03, 4.64158883e-03, 2.15443469e-02, 1.00000000e-01,\n",
       "       4.64158883e-01, 2.15443469e+00, 1.00000000e+01, 4.64158883e+01,\n",
       "       2.15443469e+02, 1.00000000e+03]),\n",
       "                  normalize=True)"
      ]
     },
     "execution_count": 56,
     "metadata": {},
     "output_type": "execute_result"
    }
   ],
   "source": [
    "classifier = RidgeClassifierCV(alphas=np.logspace(-3, 3, 10), normalize=True)\n",
    "classifier.fit(X_train_transform, get_data.y_train)"
   ]
  },
  {
   "cell_type": "code",
   "execution_count": 57,
   "metadata": {},
   "outputs": [
    {
     "data": {
      "text/plain": [
       "0.7972665148063781"
      ]
     },
     "execution_count": 57,
     "metadata": {},
     "output_type": "execute_result"
    }
   ],
   "source": [
    "X_test_transform = minirocket.transform(X_test[['lead_0']])\n",
    "classifier.score(X_test_transform, get_data.y_test)"
   ]
  },
  {
   "cell_type": "code",
   "execution_count": 39,
   "metadata": {},
   "outputs": [],
   "source": [
    "pca = PCA(n_components=30).fit(X_train_transform)\n",
    "X_train_pca = pca.transform(X_train_transform)"
   ]
  },
  {
   "cell_type": "code",
   "execution_count": 40,
   "metadata": {},
   "outputs": [
    {
     "data": {
      "text/plain": [
       "0.7562642369020501"
      ]
     },
     "execution_count": 40,
     "metadata": {},
     "output_type": "execute_result"
    }
   ],
   "source": [
    "classifier.fit(X_train_pca, get_data.y_train)\n",
    "X_test_pca = pca.transform(X_test_transform)\n",
    "classifier.score(X_test_pca, get_data.y_test)"
   ]
  },
  {
   "cell_type": "code",
   "execution_count": 52,
   "metadata": {},
   "outputs": [
    {
     "data": {
      "text/plain": [
       "0.7425968109339408"
      ]
     },
     "execution_count": 52,
     "metadata": {},
     "output_type": "execute_result"
    }
   ],
   "source": [
    "forest_clf = RandomForestClassifier(n_estimators=100).fit(X_train_pca, get_data.y_train)\n",
    "forest_clf.score(X_test_pca, get_data.y_test)"
   ]
  },
  {
   "cell_type": "code",
   "execution_count": 53,
   "metadata": {},
   "outputs": [
    {
     "data": {
      "text/plain": [
       "0.7608200455580866"
      ]
     },
     "execution_count": 53,
     "metadata": {},
     "output_type": "execute_result"
    }
   ],
   "source": [
    "svm_clf = SVC().fit(X_train_pca, get_data.y_train)\n",
    "svm_clf.score(X_test_pca, get_data.y_test)"
   ]
  },
  {
   "cell_type": "code",
   "execution_count": null,
   "metadata": {},
   "outputs": [],
   "source": []
  }
 ],
 "metadata": {
  "hide_input": false,
  "kernelspec": {
   "display_name": "Python 3",
   "language": "python",
   "name": "python3"
  },
  "language_info": {
   "codemirror_mode": {
    "name": "ipython",
    "version": 3
   },
   "file_extension": ".py",
   "mimetype": "text/x-python",
   "name": "python",
   "nbconvert_exporter": "python",
   "pygments_lexer": "ipython3",
   "version": "3.8.5"
  }
 },
 "nbformat": 4,
 "nbformat_minor": 4
}

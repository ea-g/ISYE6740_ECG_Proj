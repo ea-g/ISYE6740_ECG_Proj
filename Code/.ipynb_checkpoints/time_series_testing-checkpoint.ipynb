{
 "cells": [
  {
   "cell_type": "code",
   "execution_count": 110,
   "metadata": {},
   "outputs": [],
   "source": [
    "from sktime.classification.all import *\n",
    "import pandas as pd\n",
    "import numpy as np\n",
    "import matplotlib.pyplot as plt\n",
    "from sklearn.pipeline import Pipeline, make_pipeline\n",
    "from sklearn.metrics import classification_report, accuracy_score\n",
    "from sklearn.model_selection import GridSearchCV\n",
    "import get_data\n",
    "from sktime.transformations.panel.rocket import MiniRocket, MiniRocketMultivariate \n",
    "from sktime.transformations.panel.compose import ColumnConcatenator\n",
    "from sktime.classification.shapelet_based import MrSEQLClassifier\n",
    "from sklearn.linear_model import RidgeClassifierCV, LogisticRegressionCV, SGDClassifier, RidgeClassifier, LogisticRegression \n",
    "from sklearn.decomposition import PCA\n",
    "from sklearn.ensemble import RandomForestClassifier, AdaBoostClassifier\n",
    "from sklearn.svm import SVC\n",
    "from sklearn.neighbors import KNeighborsClassifier\n",
    "from sklearn.preprocessing import StandardScaler\n",
    "from sklearn.naive_bayes import GaussianNB"
   ]
  },
  {
   "cell_type": "markdown",
   "metadata": {},
   "source": [
    "## data wrangling\n",
    "---\n",
    "Sktime takes a dataframe with a time series as a pandas series in each data entry:\n",
    "- entry $x_j^i$ is the jth feature (a timeseries as a pandas series) for data point $x^i$"
   ]
  },
  {
   "cell_type": "code",
   "execution_count": 83,
   "metadata": {},
   "outputs": [],
   "source": [
    "def matrix_2_df(matrix, column_prefix='lead_'):\n",
    "    '''\n",
    "    Converts 3-D numpy matrix to dataframe for input to sktime models.\n",
    "    '''\n",
    "    from collections import defaultdict\n",
    "    from pandas import Series, DataFrame\n",
    "    output = defaultdict(list)\n",
    "    for i in matrix[:, :, :]:\n",
    "        for c in range(matrix.shape[-1]):\n",
    "            output[column_prefix+str(c+1)].append(Series(i[:, c:c+1].flatten()))\n",
    "            \n",
    "    return DataFrame(data=output)"
   ]
  },
  {
   "cell_type": "code",
   "execution_count": 21,
   "metadata": {},
   "outputs": [],
   "source": [
    "from collections import defaultdict\n",
    "datas = defaultdict(list)\n",
    "for i in get_data.X_train[:, :, :]:\n",
    "    for c in range(12):\n",
    "        datas['lead_{}'.format(c)].append(pd.Series(i[:, c:c+1].flatten()))\n",
    "\n",
    "X_train = pd.DataFrame(data=datas)\n",
    "\n",
    "datas = defaultdict(list)\n",
    "for i in get_data.X_test[:, :, :]:\n",
    "    for c in range(12):\n",
    "        datas['lead_{}'.format(c)].append(pd.Series(i[:, c:c+1].flatten()))\n",
    "\n",
    "X_test = pd.DataFrame(data=datas)"
   ]
  },
  {
   "cell_type": "markdown",
   "metadata": {},
   "source": [
    "## Time series forest\n",
    "---\n",
    "test time series forest on single lead, raw data"
   ]
  },
  {
   "cell_type": "code",
   "execution_count": 22,
   "metadata": {},
   "outputs": [
    {
     "data": {
      "text/plain": [
       "0.6810933940774487"
      ]
     },
     "execution_count": 22,
     "metadata": {},
     "output_type": "execute_result"
    }
   ],
   "source": [
    "classifier = TimeSeriesForest()\n",
    "classifier.fit(X_train[['lead_0']], get_data.y_train)\n",
    "y_pred = classifier.predict(X_test[['lead_0']])\n",
    "accuracy_score(get_data.y_test, y_pred)"
   ]
  },
  {
   "cell_type": "code",
   "execution_count": 24,
   "metadata": {},
   "outputs": [
    {
     "data": {
      "text/html": [
       "<div>\n",
       "<style scoped>\n",
       "    .dataframe tbody tr th:only-of-type {\n",
       "        vertical-align: middle;\n",
       "    }\n",
       "\n",
       "    .dataframe tbody tr th {\n",
       "        vertical-align: top;\n",
       "    }\n",
       "\n",
       "    .dataframe thead th {\n",
       "        text-align: right;\n",
       "    }\n",
       "</style>\n",
       "<table border=\"1\" class=\"dataframe\">\n",
       "  <thead>\n",
       "    <tr style=\"text-align: right;\">\n",
       "      <th></th>\n",
       "      <th>False</th>\n",
       "      <th>True</th>\n",
       "      <th>accuracy</th>\n",
       "      <th>macro avg</th>\n",
       "      <th>weighted avg</th>\n",
       "    </tr>\n",
       "  </thead>\n",
       "  <tbody>\n",
       "    <tr>\n",
       "      <th>precision</th>\n",
       "      <td>0.701754</td>\n",
       "      <td>0.642857</td>\n",
       "      <td>0.681093</td>\n",
       "      <td>0.672306</td>\n",
       "      <td>0.677069</td>\n",
       "    </tr>\n",
       "    <tr>\n",
       "      <th>recall</th>\n",
       "      <td>0.784314</td>\n",
       "      <td>0.538043</td>\n",
       "      <td>0.681093</td>\n",
       "      <td>0.661179</td>\n",
       "      <td>0.681093</td>\n",
       "    </tr>\n",
       "    <tr>\n",
       "      <th>f1-score</th>\n",
       "      <td>0.740741</td>\n",
       "      <td>0.585799</td>\n",
       "      <td>0.681093</td>\n",
       "      <td>0.663270</td>\n",
       "      <td>0.675799</td>\n",
       "    </tr>\n",
       "    <tr>\n",
       "      <th>support</th>\n",
       "      <td>255.000000</td>\n",
       "      <td>184.000000</td>\n",
       "      <td>0.681093</td>\n",
       "      <td>439.000000</td>\n",
       "      <td>439.000000</td>\n",
       "    </tr>\n",
       "  </tbody>\n",
       "</table>\n",
       "</div>"
      ],
      "text/plain": [
       "                False        True  accuracy   macro avg  weighted avg\n",
       "precision    0.701754    0.642857  0.681093    0.672306      0.677069\n",
       "recall       0.784314    0.538043  0.681093    0.661179      0.681093\n",
       "f1-score     0.740741    0.585799  0.681093    0.663270      0.675799\n",
       "support    255.000000  184.000000  0.681093  439.000000    439.000000"
      ]
     },
     "execution_count": 24,
     "metadata": {},
     "output_type": "execute_result"
    }
   ],
   "source": [
    "report_dict=classification_report(get_data.y_test, y_pred, output_dict=True)\n",
    "report_df = pd.DataFrame(data = report_dict)\n",
    "report_df"
   ]
  },
  {
   "cell_type": "markdown",
   "metadata": {},
   "source": [
    "### Multivariate Minirocket\n",
    "---"
   ]
  },
  {
   "cell_type": "code",
   "execution_count": 4,
   "metadata": {},
   "outputs": [],
   "source": [
    "# fit on training \n",
    "mini_mv = MiniRocketMultivariate() \n",
    "mini_mv.fit(X_train)\n",
    "\n",
    "# transform training and testing\n",
    "X_train_mvtrans = mini_mv.transform(X_train)\n",
    "X_test_mvtrans = mini_mv.transform(X_test)"
   ]
  },
  {
   "cell_type": "code",
   "execution_count": 6,
   "metadata": {},
   "outputs": [
    {
     "data": {
      "text/plain": [
       "0.8428246013667426"
      ]
     },
     "execution_count": 6,
     "metadata": {},
     "output_type": "execute_result"
    }
   ],
   "source": [
    "ridge_clf = RidgeClassifierCV(alphas=np.logspace(-3, 3, 10), normalize=True).fit(X_train_mvtrans, get_data.y_train)\n",
    "ridge_clf.score(X_test_mvtrans, get_data.y_test)"
   ]
  },
  {
   "cell_type": "code",
   "execution_count": 80,
   "metadata": {},
   "outputs": [
    {
     "data": {
      "text/plain": [
       "0.7471526195899773"
      ]
     },
     "execution_count": 80,
     "metadata": {},
     "output_type": "execute_result"
    }
   ],
   "source": [
    "steps = [\n",
    "    (\"concatenate\", ColumnConcatenator()),\n",
    "    (\"classify\", TimeSeriesForestClassifier(n_estimators=100)),\n",
    "]\n",
    "clf = Pipeline(steps)\n",
    "clf.fit(X_train, get_data.y_train)\n",
    "clf.score(X_test, get_data.y_test)"
   ]
  },
  {
   "cell_type": "code",
   "execution_count": 8,
   "metadata": {},
   "outputs": [
    {
     "name": "stdout",
     "output_type": "stream",
     "text": [
      "42.886274337768555\n",
      "69.9529538154602\n",
      "72.27595257759094\n",
      "76.29668188095093\n",
      "84.84292721748352\n",
      "86.56846189498901\n"
     ]
    },
    {
     "data": {
      "text/plain": [
       "0.6583143507972665"
      ]
     },
     "execution_count": 8,
     "metadata": {},
     "output_type": "execute_result"
    }
   ],
   "source": [
    "shape_clf = ShapeletTransformClassifier(time_contract_in_mins=60).fit(X_train[['lead_0']], get_data.y_train)\n",
    "shape_clf.score(X_test[['lead_0']], get_data.y_test)"
   ]
  },
  {
   "cell_type": "code",
   "execution_count": 54,
   "metadata": {
    "scrolled": false
   },
   "outputs": [
    {
     "data": {
      "text/html": [
       "<div>\n",
       "<style scoped>\n",
       "    .dataframe tbody tr th:only-of-type {\n",
       "        vertical-align: middle;\n",
       "    }\n",
       "\n",
       "    .dataframe tbody tr th {\n",
       "        vertical-align: top;\n",
       "    }\n",
       "\n",
       "    .dataframe thead th {\n",
       "        text-align: right;\n",
       "    }\n",
       "</style>\n",
       "<table border=\"1\" class=\"dataframe\">\n",
       "  <thead>\n",
       "    <tr style=\"text-align: right;\">\n",
       "      <th></th>\n",
       "      <th>mean_fit_time</th>\n",
       "      <th>std_fit_time</th>\n",
       "      <th>mean_score_time</th>\n",
       "      <th>std_score_time</th>\n",
       "      <th>param_clf__C</th>\n",
       "      <th>param_dim_reduce</th>\n",
       "      <th>params</th>\n",
       "      <th>split0_test_score</th>\n",
       "      <th>split1_test_score</th>\n",
       "      <th>split2_test_score</th>\n",
       "      <th>split3_test_score</th>\n",
       "      <th>split4_test_score</th>\n",
       "      <th>mean_test_score</th>\n",
       "      <th>std_test_score</th>\n",
       "      <th>rank_test_score</th>\n",
       "    </tr>\n",
       "  </thead>\n",
       "  <tbody>\n",
       "    <tr>\n",
       "      <th>0</th>\n",
       "      <td>137.011038</td>\n",
       "      <td>14.425885</td>\n",
       "      <td>25.513326</td>\n",
       "      <td>4.316217</td>\n",
       "      <td>0.01</td>\n",
       "      <td>passthrough</td>\n",
       "      <td>{'clf__C': 0.01, 'dim_reduce': 'passthrough'}</td>\n",
       "      <td>0.837607</td>\n",
       "      <td>0.863248</td>\n",
       "      <td>0.851852</td>\n",
       "      <td>0.834758</td>\n",
       "      <td>0.837143</td>\n",
       "      <td>0.844921</td>\n",
       "      <td>0.010965</td>\n",
       "      <td>1</td>\n",
       "    </tr>\n",
       "    <tr>\n",
       "      <th>1</th>\n",
       "      <td>124.816299</td>\n",
       "      <td>12.467988</td>\n",
       "      <td>28.630904</td>\n",
       "      <td>6.206224</td>\n",
       "      <td>0.01</td>\n",
       "      <td>PCA(n_components=5)</td>\n",
       "      <td>{'clf__C': 0.01, 'dim_reduce': PCA(n_component...</td>\n",
       "      <td>0.757835</td>\n",
       "      <td>0.814815</td>\n",
       "      <td>0.746439</td>\n",
       "      <td>0.717949</td>\n",
       "      <td>0.765714</td>\n",
       "      <td>0.760550</td>\n",
       "      <td>0.031600</td>\n",
       "      <td>9</td>\n",
       "    </tr>\n",
       "    <tr>\n",
       "      <th>2</th>\n",
       "      <td>144.005225</td>\n",
       "      <td>10.016895</td>\n",
       "      <td>30.134759</td>\n",
       "      <td>2.743409</td>\n",
       "      <td>0.01</td>\n",
       "      <td>PCA(n_components=60)</td>\n",
       "      <td>{'clf__C': 0.01, 'dim_reduce': PCA(n_component...</td>\n",
       "      <td>0.840456</td>\n",
       "      <td>0.846154</td>\n",
       "      <td>0.829060</td>\n",
       "      <td>0.826211</td>\n",
       "      <td>0.837143</td>\n",
       "      <td>0.835805</td>\n",
       "      <td>0.007322</td>\n",
       "      <td>4</td>\n",
       "    </tr>\n",
       "    <tr>\n",
       "      <th>3</th>\n",
       "      <td>180.557720</td>\n",
       "      <td>7.424022</td>\n",
       "      <td>30.733291</td>\n",
       "      <td>1.798620</td>\n",
       "      <td>0.1</td>\n",
       "      <td>passthrough</td>\n",
       "      <td>{'clf__C': 0.1, 'dim_reduce': 'passthrough'}</td>\n",
       "      <td>0.834758</td>\n",
       "      <td>0.854701</td>\n",
       "      <td>0.843305</td>\n",
       "      <td>0.820513</td>\n",
       "      <td>0.848571</td>\n",
       "      <td>0.840370</td>\n",
       "      <td>0.011892</td>\n",
       "      <td>2</td>\n",
       "    </tr>\n",
       "    <tr>\n",
       "      <th>4</th>\n",
       "      <td>135.790104</td>\n",
       "      <td>11.202529</td>\n",
       "      <td>33.517472</td>\n",
       "      <td>3.685712</td>\n",
       "      <td>0.1</td>\n",
       "      <td>PCA(n_components=5)</td>\n",
       "      <td>{'clf__C': 0.1, 'dim_reduce': PCA(n_components...</td>\n",
       "      <td>0.774929</td>\n",
       "      <td>0.803419</td>\n",
       "      <td>0.752137</td>\n",
       "      <td>0.723647</td>\n",
       "      <td>0.760000</td>\n",
       "      <td>0.762826</td>\n",
       "      <td>0.026274</td>\n",
       "      <td>8</td>\n",
       "    </tr>\n",
       "    <tr>\n",
       "      <th>5</th>\n",
       "      <td>153.642905</td>\n",
       "      <td>6.945541</td>\n",
       "      <td>30.936403</td>\n",
       "      <td>4.726232</td>\n",
       "      <td>0.1</td>\n",
       "      <td>PCA(n_components=60)</td>\n",
       "      <td>{'clf__C': 0.1, 'dim_reduce': PCA(n_components...</td>\n",
       "      <td>0.826211</td>\n",
       "      <td>0.851852</td>\n",
       "      <td>0.840456</td>\n",
       "      <td>0.817664</td>\n",
       "      <td>0.817143</td>\n",
       "      <td>0.830665</td>\n",
       "      <td>0.013539</td>\n",
       "      <td>5</td>\n",
       "    </tr>\n",
       "    <tr>\n",
       "      <th>6</th>\n",
       "      <td>184.236702</td>\n",
       "      <td>6.068779</td>\n",
       "      <td>34.425767</td>\n",
       "      <td>3.328447</td>\n",
       "      <td>1</td>\n",
       "      <td>passthrough</td>\n",
       "      <td>{'clf__C': 1.0, 'dim_reduce': 'passthrough'}</td>\n",
       "      <td>0.840456</td>\n",
       "      <td>0.854701</td>\n",
       "      <td>0.843305</td>\n",
       "      <td>0.834758</td>\n",
       "      <td>0.828571</td>\n",
       "      <td>0.840358</td>\n",
       "      <td>0.008771</td>\n",
       "      <td>3</td>\n",
       "    </tr>\n",
       "    <tr>\n",
       "      <th>7</th>\n",
       "      <td>149.436369</td>\n",
       "      <td>5.992271</td>\n",
       "      <td>32.437749</td>\n",
       "      <td>4.003030</td>\n",
       "      <td>1</td>\n",
       "      <td>PCA(n_components=5)</td>\n",
       "      <td>{'clf__C': 1.0, 'dim_reduce': PCA(n_components...</td>\n",
       "      <td>0.766382</td>\n",
       "      <td>0.814815</td>\n",
       "      <td>0.749288</td>\n",
       "      <td>0.735043</td>\n",
       "      <td>0.762857</td>\n",
       "      <td>0.765677</td>\n",
       "      <td>0.026945</td>\n",
       "      <td>7</td>\n",
       "    </tr>\n",
       "    <tr>\n",
       "      <th>8</th>\n",
       "      <td>71.735637</td>\n",
       "      <td>13.374527</td>\n",
       "      <td>8.132120</td>\n",
       "      <td>1.938121</td>\n",
       "      <td>1</td>\n",
       "      <td>PCA(n_components=60)</td>\n",
       "      <td>{'clf__C': 1.0, 'dim_reduce': PCA(n_components...</td>\n",
       "      <td>0.814815</td>\n",
       "      <td>0.857550</td>\n",
       "      <td>0.831909</td>\n",
       "      <td>0.826211</td>\n",
       "      <td>0.817143</td>\n",
       "      <td>0.829525</td>\n",
       "      <td>0.015309</td>\n",
       "      <td>6</td>\n",
       "    </tr>\n",
       "  </tbody>\n",
       "</table>\n",
       "</div>"
      ],
      "text/plain": [
       "   mean_fit_time  std_fit_time  mean_score_time  std_score_time param_clf__C  \\\n",
       "0     137.011038     14.425885        25.513326        4.316217         0.01   \n",
       "1     124.816299     12.467988        28.630904        6.206224         0.01   \n",
       "2     144.005225     10.016895        30.134759        2.743409         0.01   \n",
       "3     180.557720      7.424022        30.733291        1.798620          0.1   \n",
       "4     135.790104     11.202529        33.517472        3.685712          0.1   \n",
       "5     153.642905      6.945541        30.936403        4.726232          0.1   \n",
       "6     184.236702      6.068779        34.425767        3.328447            1   \n",
       "7     149.436369      5.992271        32.437749        4.003030            1   \n",
       "8      71.735637     13.374527         8.132120        1.938121            1   \n",
       "\n",
       "       param_dim_reduce                                             params  \\\n",
       "0           passthrough      {'clf__C': 0.01, 'dim_reduce': 'passthrough'}   \n",
       "1   PCA(n_components=5)  {'clf__C': 0.01, 'dim_reduce': PCA(n_component...   \n",
       "2  PCA(n_components=60)  {'clf__C': 0.01, 'dim_reduce': PCA(n_component...   \n",
       "3           passthrough       {'clf__C': 0.1, 'dim_reduce': 'passthrough'}   \n",
       "4   PCA(n_components=5)  {'clf__C': 0.1, 'dim_reduce': PCA(n_components...   \n",
       "5  PCA(n_components=60)  {'clf__C': 0.1, 'dim_reduce': PCA(n_components...   \n",
       "6           passthrough       {'clf__C': 1.0, 'dim_reduce': 'passthrough'}   \n",
       "7   PCA(n_components=5)  {'clf__C': 1.0, 'dim_reduce': PCA(n_components...   \n",
       "8  PCA(n_components=60)  {'clf__C': 1.0, 'dim_reduce': PCA(n_components...   \n",
       "\n",
       "   split0_test_score  split1_test_score  split2_test_score  split3_test_score  \\\n",
       "0           0.837607           0.863248           0.851852           0.834758   \n",
       "1           0.757835           0.814815           0.746439           0.717949   \n",
       "2           0.840456           0.846154           0.829060           0.826211   \n",
       "3           0.834758           0.854701           0.843305           0.820513   \n",
       "4           0.774929           0.803419           0.752137           0.723647   \n",
       "5           0.826211           0.851852           0.840456           0.817664   \n",
       "6           0.840456           0.854701           0.843305           0.834758   \n",
       "7           0.766382           0.814815           0.749288           0.735043   \n",
       "8           0.814815           0.857550           0.831909           0.826211   \n",
       "\n",
       "   split4_test_score  mean_test_score  std_test_score  rank_test_score  \n",
       "0           0.837143         0.844921        0.010965                1  \n",
       "1           0.765714         0.760550        0.031600                9  \n",
       "2           0.837143         0.835805        0.007322                4  \n",
       "3           0.848571         0.840370        0.011892                2  \n",
       "4           0.760000         0.762826        0.026274                8  \n",
       "5           0.817143         0.830665        0.013539                5  \n",
       "6           0.828571         0.840358        0.008771                3  \n",
       "7           0.762857         0.765677        0.026945                7  \n",
       "8           0.817143         0.829525        0.015309                6  "
      ]
     },
     "execution_count": 54,
     "metadata": {},
     "output_type": "execute_result"
    }
   ],
   "source": [
    "pd.DataFrame(data = Gridcv.cv_results_)"
   ]
  },
  {
   "cell_type": "code",
   "execution_count": 15,
   "metadata": {},
   "outputs": [
    {
     "data": {
      "text/plain": [
       "0.5239179954441914"
      ]
     },
     "execution_count": 15,
     "metadata": {},
     "output_type": "execute_result"
    }
   ],
   "source": [
    "# raw classifier testing\n",
    "knn_raw = SGDClassifier().fit(get_data.X_train.reshape((1754, 12000)), get_data.y_train)\n",
    "knn_raw.score(get_data.X_test.reshape((get_data.X_test.shape[0], 12000)), get_data.y_test)"
   ]
  },
  {
   "cell_type": "code",
   "execution_count": 55,
   "metadata": {},
   "outputs": [],
   "source": [
    "from wavelet_features import get_ecg_features"
   ]
  },
  {
   "cell_type": "code",
   "execution_count": 60,
   "metadata": {},
   "outputs": [],
   "source": [
    "X_train_wav = get_ecg_features(get_data.X_train)\n",
    "X_test_wav = get_ecg_features(get_data.X_test)"
   ]
  },
  {
   "cell_type": "code",
   "execution_count": 64,
   "metadata": {},
   "outputs": [
    {
     "data": {
      "text/plain": [
       "Pipeline(steps=[('scale', StandardScaler()), ('dim_reduce', 'passthrough'),\n",
       "                ('clf', LogisticRegression(C=0.01, max_iter=400))])"
      ]
     },
     "execution_count": 64,
     "metadata": {},
     "output_type": "execute_result"
    }
   ],
   "source": [
    "Gridcv_wav.best_estimator_"
   ]
  },
  {
   "cell_type": "code",
   "execution_count": 67,
   "metadata": {},
   "outputs": [
    {
     "data": {
      "text/plain": [
       "['C:\\\\Users\\\\Eric\\\\Desktop\\\\Classes\\\\GT_ISYE6740\\\\Project\\\\ISYE6740_ECG_Proj\\\\Output\\\\logit_gridcv_02.joblib']"
      ]
     },
     "execution_count": 67,
     "metadata": {},
     "output_type": "execute_result"
    }
   ],
   "source": [
    "output_folder = os.path.abspath(r'..\\Output')\n",
    "dump(Gridcv_wav, os.path.join(output_folder, 'logit_gridcv_02.joblib'))"
   ]
  },
  {
   "cell_type": "code",
   "execution_count": 68,
   "metadata": {},
   "outputs": [
    {
     "data": {
      "text/html": [
       "<div>\n",
       "<style scoped>\n",
       "    .dataframe tbody tr th:only-of-type {\n",
       "        vertical-align: middle;\n",
       "    }\n",
       "\n",
       "    .dataframe tbody tr th {\n",
       "        vertical-align: top;\n",
       "    }\n",
       "\n",
       "    .dataframe thead th {\n",
       "        text-align: right;\n",
       "    }\n",
       "</style>\n",
       "<table border=\"1\" class=\"dataframe\">\n",
       "  <thead>\n",
       "    <tr style=\"text-align: right;\">\n",
       "      <th></th>\n",
       "      <th>mean_fit_time</th>\n",
       "      <th>std_fit_time</th>\n",
       "      <th>mean_score_time</th>\n",
       "      <th>std_score_time</th>\n",
       "      <th>param_clf__C</th>\n",
       "      <th>param_dim_reduce</th>\n",
       "      <th>params</th>\n",
       "      <th>split0_test_score</th>\n",
       "      <th>split1_test_score</th>\n",
       "      <th>split2_test_score</th>\n",
       "      <th>split3_test_score</th>\n",
       "      <th>split4_test_score</th>\n",
       "      <th>mean_test_score</th>\n",
       "      <th>std_test_score</th>\n",
       "      <th>rank_test_score</th>\n",
       "    </tr>\n",
       "  </thead>\n",
       "  <tbody>\n",
       "    <tr>\n",
       "      <th>0</th>\n",
       "      <td>1.237316</td>\n",
       "      <td>0.079031</td>\n",
       "      <td>0.020252</td>\n",
       "      <td>0.003619</td>\n",
       "      <td>0.01</td>\n",
       "      <td>passthrough</td>\n",
       "      <td>{'clf__C': 0.01, 'dim_reduce': 'passthrough'}</td>\n",
       "      <td>0.786325</td>\n",
       "      <td>0.823362</td>\n",
       "      <td>0.780627</td>\n",
       "      <td>0.792023</td>\n",
       "      <td>0.774286</td>\n",
       "      <td>0.791324</td>\n",
       "      <td>0.017068</td>\n",
       "      <td>1</td>\n",
       "    </tr>\n",
       "    <tr>\n",
       "      <th>1</th>\n",
       "      <td>0.590352</td>\n",
       "      <td>0.113516</td>\n",
       "      <td>0.015395</td>\n",
       "      <td>0.005555</td>\n",
       "      <td>0.01</td>\n",
       "      <td>PCA(n_components=5)</td>\n",
       "      <td>{'clf__C': 0.01, 'dim_reduce': PCA(n_component...</td>\n",
       "      <td>0.698006</td>\n",
       "      <td>0.626781</td>\n",
       "      <td>0.686610</td>\n",
       "      <td>0.629630</td>\n",
       "      <td>0.665714</td>\n",
       "      <td>0.661348</td>\n",
       "      <td>0.028990</td>\n",
       "      <td>7</td>\n",
       "    </tr>\n",
       "    <tr>\n",
       "      <th>2</th>\n",
       "      <td>0.808606</td>\n",
       "      <td>0.093471</td>\n",
       "      <td>0.020211</td>\n",
       "      <td>0.006204</td>\n",
       "      <td>0.01</td>\n",
       "      <td>PCA(n_components=60)</td>\n",
       "      <td>{'clf__C': 0.01, 'dim_reduce': PCA(n_component...</td>\n",
       "      <td>0.780627</td>\n",
       "      <td>0.772080</td>\n",
       "      <td>0.766382</td>\n",
       "      <td>0.789174</td>\n",
       "      <td>0.785714</td>\n",
       "      <td>0.778795</td>\n",
       "      <td>0.008463</td>\n",
       "      <td>2</td>\n",
       "    </tr>\n",
       "    <tr>\n",
       "      <th>3</th>\n",
       "      <td>2.903848</td>\n",
       "      <td>0.352175</td>\n",
       "      <td>0.018748</td>\n",
       "      <td>0.006247</td>\n",
       "      <td>0.1</td>\n",
       "      <td>passthrough</td>\n",
       "      <td>{'clf__C': 0.1, 'dim_reduce': 'passthrough'}</td>\n",
       "      <td>0.760684</td>\n",
       "      <td>0.789174</td>\n",
       "      <td>0.774929</td>\n",
       "      <td>0.777778</td>\n",
       "      <td>0.757143</td>\n",
       "      <td>0.771941</td>\n",
       "      <td>0.011710</td>\n",
       "      <td>5</td>\n",
       "    </tr>\n",
       "    <tr>\n",
       "      <th>4</th>\n",
       "      <td>0.567362</td>\n",
       "      <td>0.071796</td>\n",
       "      <td>0.030784</td>\n",
       "      <td>0.015925</td>\n",
       "      <td>0.1</td>\n",
       "      <td>PCA(n_components=5)</td>\n",
       "      <td>{'clf__C': 0.1, 'dim_reduce': PCA(n_components...</td>\n",
       "      <td>0.698006</td>\n",
       "      <td>0.626781</td>\n",
       "      <td>0.683761</td>\n",
       "      <td>0.629630</td>\n",
       "      <td>0.662857</td>\n",
       "      <td>0.660207</td>\n",
       "      <td>0.028435</td>\n",
       "      <td>8</td>\n",
       "    </tr>\n",
       "    <tr>\n",
       "      <th>5</th>\n",
       "      <td>0.766599</td>\n",
       "      <td>0.036300</td>\n",
       "      <td>0.033530</td>\n",
       "      <td>0.004307</td>\n",
       "      <td>0.1</td>\n",
       "      <td>PCA(n_components=60)</td>\n",
       "      <td>{'clf__C': 0.1, 'dim_reduce': PCA(n_components...</td>\n",
       "      <td>0.777778</td>\n",
       "      <td>0.763533</td>\n",
       "      <td>0.772080</td>\n",
       "      <td>0.780627</td>\n",
       "      <td>0.782857</td>\n",
       "      <td>0.775375</td>\n",
       "      <td>0.006934</td>\n",
       "      <td>4</td>\n",
       "    </tr>\n",
       "    <tr>\n",
       "      <th>6</th>\n",
       "      <td>4.834807</td>\n",
       "      <td>0.127594</td>\n",
       "      <td>0.007181</td>\n",
       "      <td>0.003420</td>\n",
       "      <td>1</td>\n",
       "      <td>passthrough</td>\n",
       "      <td>{'clf__C': 1.0, 'dim_reduce': 'passthrough'}</td>\n",
       "      <td>0.706553</td>\n",
       "      <td>0.749288</td>\n",
       "      <td>0.735043</td>\n",
       "      <td>0.760684</td>\n",
       "      <td>0.751429</td>\n",
       "      <td>0.740599</td>\n",
       "      <td>0.018901</td>\n",
       "      <td>6</td>\n",
       "    </tr>\n",
       "    <tr>\n",
       "      <th>7</th>\n",
       "      <td>0.620551</td>\n",
       "      <td>0.021959</td>\n",
       "      <td>0.026134</td>\n",
       "      <td>0.011780</td>\n",
       "      <td>1</td>\n",
       "      <td>PCA(n_components=5)</td>\n",
       "      <td>{'clf__C': 1.0, 'dim_reduce': PCA(n_components...</td>\n",
       "      <td>0.698006</td>\n",
       "      <td>0.626781</td>\n",
       "      <td>0.683761</td>\n",
       "      <td>0.629630</td>\n",
       "      <td>0.662857</td>\n",
       "      <td>0.660207</td>\n",
       "      <td>0.028435</td>\n",
       "      <td>8</td>\n",
       "    </tr>\n",
       "    <tr>\n",
       "      <th>8</th>\n",
       "      <td>0.799541</td>\n",
       "      <td>0.034296</td>\n",
       "      <td>0.026362</td>\n",
       "      <td>0.006762</td>\n",
       "      <td>1</td>\n",
       "      <td>PCA(n_components=60)</td>\n",
       "      <td>{'clf__C': 1.0, 'dim_reduce': PCA(n_components...</td>\n",
       "      <td>0.777778</td>\n",
       "      <td>0.760684</td>\n",
       "      <td>0.769231</td>\n",
       "      <td>0.789174</td>\n",
       "      <td>0.785714</td>\n",
       "      <td>0.776516</td>\n",
       "      <td>0.010490</td>\n",
       "      <td>3</td>\n",
       "    </tr>\n",
       "  </tbody>\n",
       "</table>\n",
       "</div>"
      ],
      "text/plain": [
       "   mean_fit_time  std_fit_time  mean_score_time  std_score_time param_clf__C  \\\n",
       "0       1.237316      0.079031         0.020252        0.003619         0.01   \n",
       "1       0.590352      0.113516         0.015395        0.005555         0.01   \n",
       "2       0.808606      0.093471         0.020211        0.006204         0.01   \n",
       "3       2.903848      0.352175         0.018748        0.006247          0.1   \n",
       "4       0.567362      0.071796         0.030784        0.015925          0.1   \n",
       "5       0.766599      0.036300         0.033530        0.004307          0.1   \n",
       "6       4.834807      0.127594         0.007181        0.003420            1   \n",
       "7       0.620551      0.021959         0.026134        0.011780            1   \n",
       "8       0.799541      0.034296         0.026362        0.006762            1   \n",
       "\n",
       "       param_dim_reduce                                             params  \\\n",
       "0           passthrough      {'clf__C': 0.01, 'dim_reduce': 'passthrough'}   \n",
       "1   PCA(n_components=5)  {'clf__C': 0.01, 'dim_reduce': PCA(n_component...   \n",
       "2  PCA(n_components=60)  {'clf__C': 0.01, 'dim_reduce': PCA(n_component...   \n",
       "3           passthrough       {'clf__C': 0.1, 'dim_reduce': 'passthrough'}   \n",
       "4   PCA(n_components=5)  {'clf__C': 0.1, 'dim_reduce': PCA(n_components...   \n",
       "5  PCA(n_components=60)  {'clf__C': 0.1, 'dim_reduce': PCA(n_components...   \n",
       "6           passthrough       {'clf__C': 1.0, 'dim_reduce': 'passthrough'}   \n",
       "7   PCA(n_components=5)  {'clf__C': 1.0, 'dim_reduce': PCA(n_components...   \n",
       "8  PCA(n_components=60)  {'clf__C': 1.0, 'dim_reduce': PCA(n_components...   \n",
       "\n",
       "   split0_test_score  split1_test_score  split2_test_score  split3_test_score  \\\n",
       "0           0.786325           0.823362           0.780627           0.792023   \n",
       "1           0.698006           0.626781           0.686610           0.629630   \n",
       "2           0.780627           0.772080           0.766382           0.789174   \n",
       "3           0.760684           0.789174           0.774929           0.777778   \n",
       "4           0.698006           0.626781           0.683761           0.629630   \n",
       "5           0.777778           0.763533           0.772080           0.780627   \n",
       "6           0.706553           0.749288           0.735043           0.760684   \n",
       "7           0.698006           0.626781           0.683761           0.629630   \n",
       "8           0.777778           0.760684           0.769231           0.789174   \n",
       "\n",
       "   split4_test_score  mean_test_score  std_test_score  rank_test_score  \n",
       "0           0.774286         0.791324        0.017068                1  \n",
       "1           0.665714         0.661348        0.028990                7  \n",
       "2           0.785714         0.778795        0.008463                2  \n",
       "3           0.757143         0.771941        0.011710                5  \n",
       "4           0.662857         0.660207        0.028435                8  \n",
       "5           0.782857         0.775375        0.006934                4  \n",
       "6           0.751429         0.740599        0.018901                6  \n",
       "7           0.662857         0.660207        0.028435                8  \n",
       "8           0.785714         0.776516        0.010490                3  "
      ]
     },
     "execution_count": 68,
     "metadata": {},
     "output_type": "execute_result"
    }
   ],
   "source": [
    "pd.DataFrame(Gridcv_wav.cv_results_)"
   ]
  },
  {
   "cell_type": "code",
   "execution_count": 72,
   "metadata": {},
   "outputs": [
    {
     "data": {
      "text/plain": [
       "0.8428246013667426"
      ]
     },
     "execution_count": 72,
     "metadata": {},
     "output_type": "execute_result"
    }
   ],
   "source": [
    "SGD_gridcv.score(X_test, get_data.y_test)"
   ]
  },
  {
   "cell_type": "code",
   "execution_count": 73,
   "metadata": {},
   "outputs": [
    {
     "data": {
      "text/plain": [
       "['C:\\\\Users\\\\Eric\\\\Desktop\\\\Classes\\\\GT_ISYE6740\\\\Project\\\\ISYE6740_ECG_Proj\\\\Output\\\\SGD_gridcv_01.joblib']"
      ]
     },
     "execution_count": 73,
     "metadata": {},
     "output_type": "execute_result"
    }
   ],
   "source": [
    "dump(SGD_gridcv, os.path.join(output_folder, 'SGD_gridcv_01.joblib'))"
   ]
  },
  {
   "cell_type": "code",
   "execution_count": 143,
   "metadata": {},
   "outputs": [],
   "source": [
    "# list of models, feel free to add more\n",
    "models = [SVC(), LogisticRegression(max_iter=400), GaussianNB(), KNeighborsClassifier(),\n",
    "          RandomForestClassifier(), RidgeClassifier(), AdaBoostClassifier()]\n",
    "\n",
    "# dictionary of dictionaries of model paramenters (follow formatting if edit)\n",
    "model_params = {'svc':{'svc__C':np.logspace(-3, 1, 5), 'svc__kernel':['scale', 'auto']}, \n",
    "               'logisticregression':{'logisticregression__C':np.logspace(-3, 1, 5)}, \n",
    "               'kneighborsclassifier': {'kneighborsclassifier__k':[1, 5, 7]}, \n",
    "               'randomforestclassifier': {'randomforestclassifier__n_estimators':[50, 100, 200]},\n",
    "               'ridgeclassifier':{'ridgeclassifier__alpha': np.logspace(-2, 2, 5)},\n",
    "               'adaboostclassifier':{'adaboostclassifier__n_estimators':[50, 100]}}\n",
    "\n",
    "def make_gridcv(classifier):\n",
    "    '''\n",
    "    Given an sklearn classifier (e.g. SVC()), builds a pipeline and parameter grid based on model_params dictionary and \n",
    "    default estimators (scaling, pca). \n",
    "    \n",
    "    Returns a GridSearchCV object ready to be fit to data.\n",
    "    '''\n",
    "    #==================================================================================\n",
    "    # We will need to edit the evaluation critereon of grid cv to a different metric\n",
    "    # for multilabel classification. See:\n",
    "    # https://scikit-learn.org/stable/modules/model_evaluation.html#multimetric-scoring\n",
    "    # \n",
    "    # Multimetric is also possible:\n",
    "    # https://scikit-learn.org/stable/modules/grid_search.html#multimetric-grid-search\n",
    "    #==================================================================================\n",
    "    pipe = make_pipeline(StandardScaler(), PCA(), classifier)\n",
    "    default_params = dict(pca=['passthrough', PCA(.80, svd_solver='full'), PCA(.90, svd_solver='full'), PCA(.95, svd_solver='full')])\n",
    "    \n",
    "    # update parameters with model's parameters\n",
    "    default_params.update(model_params[list(pipe.named_steps.keys())[-1]])\n",
    "    \n",
    "    return GridSearchCV(pipe, default_params, n_jobs=-1)\n",
    "    "
   ]
  },
  {
   "cell_type": "code",
   "execution_count": 144,
   "metadata": {},
   "outputs": [],
   "source": [
    "ridge_grid = make_gridcv(models[-2])"
   ]
  },
  {
   "cell_type": "code",
   "execution_count": 145,
   "metadata": {},
   "outputs": [
    {
     "data": {
      "text/plain": [
       "GridSearchCV(estimator=Pipeline(steps=[('standardscaler', StandardScaler()),\n",
       "                                       ('pca', PCA()),\n",
       "                                       ('ridgeclassifier', RidgeClassifier())]),\n",
       "             n_jobs=-1,\n",
       "             param_grid={'pca': ['passthrough',\n",
       "                                 PCA(n_components=0.8, svd_solver='full'),\n",
       "                                 PCA(n_components=0.9, svd_solver='full'),\n",
       "                                 PCA(n_components=0.95, svd_solver='full')],\n",
       "                         'ridgeclassifier__alpha': array([1.e-02, 1.e-01, 1.e+00, 1.e+01, 1.e+02])})"
      ]
     },
     "execution_count": 145,
     "metadata": {},
     "output_type": "execute_result"
    }
   ],
   "source": [
    "ridge_grid.fit(X_train_wav, get_data.y_train)"
   ]
  },
  {
   "cell_type": "code",
   "execution_count": 146,
   "metadata": {},
   "outputs": [
    {
     "data": {
      "text/plain": [
       "0.7790432801822323"
      ]
     },
     "execution_count": 146,
     "metadata": {},
     "output_type": "execute_result"
    }
   ],
   "source": [
    "ridge_grid.score(X_test_wav, get_data.y_test)"
   ]
  },
  {
   "cell_type": "code",
   "execution_count": 147,
   "metadata": {},
   "outputs": [
    {
     "data": {
      "text/plain": [
       "Pipeline(steps=[('standardscaler', StandardScaler()),\n",
       "                ('pca', PCA(n_components=0.95, svd_solver='full')),\n",
       "                ('ridgeclassifier', RidgeClassifier(alpha=100.0))])"
      ]
     },
     "execution_count": 147,
     "metadata": {},
     "output_type": "execute_result"
    }
   ],
   "source": [
    "ridge_grid.best_estimator_"
   ]
  },
  {
   "cell_type": "code",
   "execution_count": null,
   "metadata": {},
   "outputs": [],
   "source": []
  }
 ],
 "metadata": {
  "hide_input": false,
  "kernelspec": {
   "display_name": "Python 3",
   "language": "python",
   "name": "python3"
  },
  "language_info": {
   "codemirror_mode": {
    "name": "ipython",
    "version": 3
   },
   "file_extension": ".py",
   "mimetype": "text/x-python",
   "name": "python",
   "nbconvert_exporter": "python",
   "pygments_lexer": "ipython3",
   "version": "3.8.5"
  }
 },
 "nbformat": 4,
 "nbformat_minor": 4
}
